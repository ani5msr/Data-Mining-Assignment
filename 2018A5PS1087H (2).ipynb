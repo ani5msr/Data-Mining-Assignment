{
 "cells": [
  {
   "cell_type": "markdown",
   "id": "87e63ff0",
   "metadata": {},
   "source": [
    "Naive Bayes Classifier \n"
   ]
  },
  {
   "cell_type": "code",
   "execution_count": 1,
   "id": "6f3f7bb4",
   "metadata": {},
   "outputs": [],
   "source": [
    "import pandas as pd\n",
    "import numpy as np\n",
    "dataset = pd.read_csv('C:/Users/aniru/Downloads/2018A5PS1087H/Cars.csv')\n",
    "features = dataset.drop([dataset.columns[-1]], axis = 1)\n",
    "classes = dataset[dataset.columns[-1]]"
   ]
  },
  {
   "cell_type": "markdown",
   "id": "13b4f2a3",
   "metadata": {},
   "source": [
    "The test and train split is done with a fraction of 0.135                  "
   ]
  },
  {
   "cell_type": "code",
   "execution_count": 2,
   "id": "23f3d6f2",
   "metadata": {},
   "outputs": [],
   "source": [
    "x_test = features.sample(frac = 0.135, random_state = None)\n",
    "y_test = classes[x_test.index]\n",
    "x_train = features.drop(x_test.index)\n",
    "y_train = classes.drop(y_test.index)"
   ]
  },
  {
   "cell_type": "markdown",
   "id": "8c5cce20",
   "metadata": {},
   "source": [
    "Probability of event before evidence is seen). The evidence is an attribute value of an unknown instance"
   ]
  },
  {
   "cell_type": "code",
   "execution_count": 3,
   "id": "0ba932a2",
   "metadata": {},
   "outputs": [],
   "source": [
    "def _calc_class_prior():\n",
    "\t\tfor outcome in np.unique(y_train):\n",
    "\t\t\toutcome_count = sum(y_train == outcome)\n",
    "\t\t\tclass_priors[outcome] = outcome_count / train_size"
   ]
  },
  {
   "cell_type": "markdown",
   "id": "30bad761",
   "metadata": {},
   "source": []
  },
  {
   "cell_type": "code",
   "execution_count": 4,
   "id": "1f03df1e",
   "metadata": {},
   "outputs": [],
   "source": [
    "def _calc_likelihoods():\n",
    "\t\tfor feature in features:\n",
    "\t\t\tfor outcome in np.unique(y_train):\n",
    "\t\t\t\toutcome_count = sum(y_train == outcome)\n",
    "\t\t\t\tfeat_likelihood = x_train[feature][y_train[y_train == outcome].index.values.tolist()].value_counts().to_dict()\n",
    "\t\t\t\tfor feat_val, count in feat_likelihood.items():\n",
    "\t\t\t\t\tlikelihoods[feature][feat_val + '_' + outcome] = count/outcome_count\n"
   ]
  },
  {
   "cell_type": "code",
   "execution_count": 5,
   "id": "4d810c5a",
   "metadata": {},
   "outputs": [],
   "source": [
    "def _calc_predictor_prior():\n",
    "\t\tfor feature in features:\n",
    "\t\t\tfeat_vals = x_train[feature].value_counts().to_dict()\n",
    "\t\t\tfor feat_val, count in feat_vals.items():\n",
    "\t\t\t\tpred_priors[feature][feat_val] = count/train_size"
   ]
  },
  {
   "cell_type": "code",
   "execution_count": 6,
   "id": "9b97ff97",
   "metadata": {},
   "outputs": [],
   "source": [
    "def fit(X, y):\n",
    "        features = list(X.columns)\n",
    "        X_train = X\n",
    "        y_train = y\n",
    "        train_size = X.shape[0]\n",
    "        num_feats = X.shape[1]\n",
    "\n",
    "        for feature in features:\n",
    "            likelihoods[feature] = {}\n",
    "            pred_priors[feature] = {}\n",
    "\n",
    "            for feat_val in np.unique(X_train[feature]):\n",
    "                pred_priors[feature].update({feat_val: 0})\n",
    "\n",
    "                for outcome in np.unique(y_train):\n",
    "                    likelihoods[feature].update({feat_val+'_'+outcome:0})\n",
    "                    class_priors.update({outcome: 0})\n",
    "        _calc_class_prior()\n",
    "        _calc_likelihoods()\n",
    "        _calc_predictor_prior()"
   ]
  },
  {
   "cell_type": "code",
   "execution_count": 7,
   "id": "d4db2c88",
   "metadata": {},
   "outputs": [],
   "source": [
    "def predict(X):\n",
    "    X_ = np.array(X)\n",
    "    results = []\n",
    "    for query in X_:\n",
    "        probs_outcome = {}\n",
    "        for outcome in np.unique(y_train):\n",
    "            prior = class_priors[outcome]\n",
    "            likelihood = 1\n",
    "            evidence = 1\n",
    "            for feat, feat_val in zip(features, query):\n",
    "                likelihood *= likelihoods[feat][feat_val + '_' + outcome]\n",
    "                evidence *= pred_priors[feat][feat_val]           \n",
    "            posterior = (likelihood*prior)/(evidence)\n",
    "            probs_outcome[outcome] = posterior\n",
    "        result = max(probs_outcome, key = lambda x: probs_outcome[x])\n",
    "        results.append(result)\n",
    "    return np.array(results)"
   ]
  },
  {
   "cell_type": "code",
   "execution_count": 8,
   "id": "931976ee",
   "metadata": {},
   "outputs": [],
   "source": [
    "def accuracy_score(y_true, y_pred):\n",
    "\treturn round(float(sum(y_pred == y_true))/float(len(y_true)) * 100 ,2)"
   ]
  },
  {
   "cell_type": "code",
   "execution_count": 9,
   "id": "d676f81d",
   "metadata": {},
   "outputs": [
    {
     "ename": "NameError",
     "evalue": "name 'likelihoods' is not defined",
     "output_type": "error",
     "traceback": [
      "\u001b[1;31m---------------------------------------------------------------------------\u001b[0m",
      "\u001b[1;31mNameError\u001b[0m                                 Traceback (most recent call last)",
      "\u001b[1;32m~\\AppData\\Local\\Temp/ipykernel_2144/4221440169.py\u001b[0m in \u001b[0;36m<module>\u001b[1;34m\u001b[0m\n\u001b[1;32m----> 1\u001b[1;33m \u001b[0mfit\u001b[0m\u001b[1;33m(\u001b[0m\u001b[0mx_train\u001b[0m\u001b[1;33m,\u001b[0m \u001b[0my_train\u001b[0m\u001b[1;33m)\u001b[0m\u001b[1;33m\u001b[0m\u001b[1;33m\u001b[0m\u001b[0m\n\u001b[0m\u001b[0;32m      2\u001b[0m \u001b[0mprint\u001b[0m\u001b[1;33m(\u001b[0m\u001b[1;34m\"Train Accuracy: {}\"\u001b[0m\u001b[1;33m.\u001b[0m\u001b[0mformat\u001b[0m\u001b[1;33m(\u001b[0m\u001b[0maccuracy_score\u001b[0m\u001b[1;33m(\u001b[0m\u001b[0my_train\u001b[0m\u001b[1;33m,\u001b[0m \u001b[0mpredict\u001b[0m\u001b[1;33m(\u001b[0m\u001b[0mx_train\u001b[0m\u001b[1;33m)\u001b[0m\u001b[1;33m)\u001b[0m\u001b[1;33m)\u001b[0m\u001b[1;33m)\u001b[0m\u001b[1;33m\u001b[0m\u001b[1;33m\u001b[0m\u001b[0m\n\u001b[0;32m      3\u001b[0m \u001b[0mprint\u001b[0m\u001b[1;33m(\u001b[0m\u001b[1;34m\"Test Accuracy: {}\"\u001b[0m\u001b[1;33m.\u001b[0m\u001b[0mformat\u001b[0m\u001b[1;33m(\u001b[0m\u001b[0maccuracy_score\u001b[0m\u001b[1;33m(\u001b[0m\u001b[0my_test\u001b[0m\u001b[1;33m,\u001b[0m \u001b[0mpredict\u001b[0m\u001b[1;33m(\u001b[0m\u001b[0mx_test\u001b[0m\u001b[1;33m)\u001b[0m\u001b[1;33m)\u001b[0m\u001b[1;33m)\u001b[0m\u001b[1;33m)\u001b[0m\u001b[1;33m\u001b[0m\u001b[1;33m\u001b[0m\u001b[0m\n",
      "\u001b[1;32m~\\AppData\\Local\\Temp/ipykernel_2144/1692782483.py\u001b[0m in \u001b[0;36mfit\u001b[1;34m(X, y)\u001b[0m\n\u001b[0;32m      7\u001b[0m \u001b[1;33m\u001b[0m\u001b[0m\n\u001b[0;32m      8\u001b[0m         \u001b[1;32mfor\u001b[0m \u001b[0mfeature\u001b[0m \u001b[1;32min\u001b[0m \u001b[0mfeatures\u001b[0m\u001b[1;33m:\u001b[0m\u001b[1;33m\u001b[0m\u001b[1;33m\u001b[0m\u001b[0m\n\u001b[1;32m----> 9\u001b[1;33m             \u001b[0mlikelihoods\u001b[0m\u001b[1;33m[\u001b[0m\u001b[0mfeature\u001b[0m\u001b[1;33m]\u001b[0m \u001b[1;33m=\u001b[0m \u001b[1;33m{\u001b[0m\u001b[1;33m}\u001b[0m\u001b[1;33m\u001b[0m\u001b[1;33m\u001b[0m\u001b[0m\n\u001b[0m\u001b[0;32m     10\u001b[0m             \u001b[0mpred_priors\u001b[0m\u001b[1;33m[\u001b[0m\u001b[0mfeature\u001b[0m\u001b[1;33m]\u001b[0m \u001b[1;33m=\u001b[0m \u001b[1;33m{\u001b[0m\u001b[1;33m}\u001b[0m\u001b[1;33m\u001b[0m\u001b[1;33m\u001b[0m\u001b[0m\n\u001b[0;32m     11\u001b[0m \u001b[1;33m\u001b[0m\u001b[0m\n",
      "\u001b[1;31mNameError\u001b[0m: name 'likelihoods' is not defined"
     ]
    }
   ],
   "source": [
    "fit(x_train, y_train)\n",
    "print(\"Train Accuracy: {}\".format(accuracy_score(y_train, predict(x_train))))\n",
    "print(\"Test Accuracy: {}\".format(accuracy_score(y_test, predict(x_test))))"
   ]
  }
 ],
 "metadata": {
  "kernelspec": {
   "display_name": "Python 3 (ipykernel)",
   "language": "python",
   "name": "python3"
  },
  "language_info": {
   "codemirror_mode": {
    "name": "ipython",
    "version": 3
   },
   "file_extension": ".py",
   "mimetype": "text/x-python",
   "name": "python",
   "nbconvert_exporter": "python",
   "pygments_lexer": "ipython3",
   "version": "3.9.7"
  }
 },
 "nbformat": 4,
 "nbformat_minor": 5
}
