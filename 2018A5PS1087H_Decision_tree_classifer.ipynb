{
 "cells": [
  {
   "cell_type": "markdown",
   "metadata": {},
   "source": [
    "## Question 1\n",
    "Q1) Consider the following Dataset containing information regarding alcohol consumption in different countries. An analyst performs different operations to carry out certain tasks to help the analyst in performing the task."
   ]
  },
  {
   "cell_type": "markdown",
   "metadata": {},
   "source": [
    "Which continent drinks more Wine on average?"
   ]
  },
  {
   "cell_type": "code",
   "execution_count": 3,
   "metadata": {
    "id": "kzdR3TPWWjbs"
   },
   "outputs": [
    {
     "data": {
      "text/plain": [
       "continent\n",
       "AF      16.264151\n",
       "AS       9.068182\n",
       "EU     142.222222\n",
       "NoA     24.521739\n",
       "OC      35.625000\n",
       "SA      62.416667\n",
       "Name: wine_servings, dtype: float64"
      ]
     },
     "execution_count": 3,
     "metadata": {},
     "output_type": "execute_result"
    }
   ],
   "source": [
    "import pandas as pd\n",
    "import numpy as np\n",
    "dataframe = pd.read_csv('/storage/emulated/0/Download/201A5PS1087H/drinks.csv') \n",
    "dataframe = dataframe.replace(to_replace=np.nan, value=\"NoA\")\n",
    "most_average_wine = dataframe.groupby('continent')['wine_servings'].mean()\n",
    "most_average_wine"
   ]
  },
  {
   "cell_type": "markdown",
   "metadata": {},
   "source": [
    "EU drinks most wine"
   ]
  },
  {
   "cell_type": "markdown",
   "metadata": {},
   "source": [
    "For each continent print the statistics for Beer consumption"
   ]
  },
  {
   "cell_type": "code",
   "execution_count": 4,
   "metadata": {
    "id": "mYAox9pUiroI"
   },
   "outputs": [
    {
     "data": {
      "text/html": [
       "<div>\n",
       "<style scoped>\n",
       "    .dataframe tbody tr th:only-of-type {\n",
       "        vertical-align: middle;\n",
       "    }\n",
       "\n",
       "    .dataframe tbody tr th {\n",
       "        vertical-align: top;\n",
       "    }\n",
       "\n",
       "    .dataframe thead th {\n",
       "        text-align: right;\n",
       "    }\n",
       "</style>\n",
       "<table border=\"1\" class=\"dataframe\">\n",
       "  <thead>\n",
       "    <tr style=\"text-align: right;\">\n",
       "      <th></th>\n",
       "      <th>count</th>\n",
       "      <th>mean</th>\n",
       "      <th>std</th>\n",
       "      <th>min</th>\n",
       "      <th>25%</th>\n",
       "      <th>50%</th>\n",
       "      <th>75%</th>\n",
       "      <th>max</th>\n",
       "    </tr>\n",
       "    <tr>\n",
       "      <th>continent</th>\n",
       "      <th></th>\n",
       "      <th></th>\n",
       "      <th></th>\n",
       "      <th></th>\n",
       "      <th></th>\n",
       "      <th></th>\n",
       "      <th></th>\n",
       "      <th></th>\n",
       "    </tr>\n",
       "  </thead>\n",
       "  <tbody>\n",
       "    <tr>\n",
       "      <th>AF</th>\n",
       "      <td>53.0</td>\n",
       "      <td>61.471698</td>\n",
       "      <td>80.557816</td>\n",
       "      <td>0.0</td>\n",
       "      <td>15.00</td>\n",
       "      <td>32.0</td>\n",
       "      <td>76.00</td>\n",
       "      <td>376.0</td>\n",
       "    </tr>\n",
       "    <tr>\n",
       "      <th>AS</th>\n",
       "      <td>44.0</td>\n",
       "      <td>37.045455</td>\n",
       "      <td>49.469725</td>\n",
       "      <td>0.0</td>\n",
       "      <td>4.25</td>\n",
       "      <td>17.5</td>\n",
       "      <td>60.50</td>\n",
       "      <td>247.0</td>\n",
       "    </tr>\n",
       "    <tr>\n",
       "      <th>EU</th>\n",
       "      <td>45.0</td>\n",
       "      <td>193.777778</td>\n",
       "      <td>99.631569</td>\n",
       "      <td>0.0</td>\n",
       "      <td>127.00</td>\n",
       "      <td>219.0</td>\n",
       "      <td>270.00</td>\n",
       "      <td>361.0</td>\n",
       "    </tr>\n",
       "    <tr>\n",
       "      <th>NoA</th>\n",
       "      <td>23.0</td>\n",
       "      <td>145.434783</td>\n",
       "      <td>79.621163</td>\n",
       "      <td>1.0</td>\n",
       "      <td>80.00</td>\n",
       "      <td>143.0</td>\n",
       "      <td>198.00</td>\n",
       "      <td>285.0</td>\n",
       "    </tr>\n",
       "    <tr>\n",
       "      <th>OC</th>\n",
       "      <td>16.0</td>\n",
       "      <td>89.687500</td>\n",
       "      <td>96.641412</td>\n",
       "      <td>0.0</td>\n",
       "      <td>21.00</td>\n",
       "      <td>52.5</td>\n",
       "      <td>125.75</td>\n",
       "      <td>306.0</td>\n",
       "    </tr>\n",
       "    <tr>\n",
       "      <th>SA</th>\n",
       "      <td>12.0</td>\n",
       "      <td>175.083333</td>\n",
       "      <td>65.242845</td>\n",
       "      <td>93.0</td>\n",
       "      <td>129.50</td>\n",
       "      <td>162.5</td>\n",
       "      <td>198.00</td>\n",
       "      <td>333.0</td>\n",
       "    </tr>\n",
       "  </tbody>\n",
       "</table>\n",
       "</div>"
      ],
      "text/plain": [
       "           count        mean        std   min     25%    50%     75%    max\n",
       "continent                                                                  \n",
       "AF          53.0   61.471698  80.557816   0.0   15.00   32.0   76.00  376.0\n",
       "AS          44.0   37.045455  49.469725   0.0    4.25   17.5   60.50  247.0\n",
       "EU          45.0  193.777778  99.631569   0.0  127.00  219.0  270.00  361.0\n",
       "NoA         23.0  145.434783  79.621163   1.0   80.00  143.0  198.00  285.0\n",
       "OC          16.0   89.687500  96.641412   0.0   21.00   52.5  125.75  306.0\n",
       "SA          12.0  175.083333  65.242845  93.0  129.50  162.5  198.00  333.0"
      ]
     },
     "execution_count": 4,
     "metadata": {},
     "output_type": "execute_result"
    }
   ],
   "source": [
    "dataframe.groupby('continent')['beer_servings'].describe()"
   ]
  },
  {
   "cell_type": "markdown",
   "metadata": {},
   "source": [
    "Print the median alcohol consumption per continent for every column"
   ]
  },
  {
   "cell_type": "code",
   "execution_count": 5,
   "metadata": {},
   "outputs": [
    {
     "data": {
      "text/html": [
       "<div>\n",
       "<style scoped>\n",
       "    .dataframe tbody tr th:only-of-type {\n",
       "        vertical-align: middle;\n",
       "    }\n",
       "\n",
       "    .dataframe tbody tr th {\n",
       "        vertical-align: top;\n",
       "    }\n",
       "\n",
       "    .dataframe thead th {\n",
       "        text-align: right;\n",
       "    }\n",
       "</style>\n",
       "<table border=\"1\" class=\"dataframe\">\n",
       "  <thead>\n",
       "    <tr style=\"text-align: right;\">\n",
       "      <th></th>\n",
       "      <th>beer_servings</th>\n",
       "      <th>spirit_servings</th>\n",
       "      <th>wine_servings</th>\n",
       "      <th>total_litres_of_pure_alcohol</th>\n",
       "    </tr>\n",
       "    <tr>\n",
       "      <th>continent</th>\n",
       "      <th></th>\n",
       "      <th></th>\n",
       "      <th></th>\n",
       "      <th></th>\n",
       "    </tr>\n",
       "  </thead>\n",
       "  <tbody>\n",
       "    <tr>\n",
       "      <th>AF</th>\n",
       "      <td>32.0</td>\n",
       "      <td>3.0</td>\n",
       "      <td>2.0</td>\n",
       "      <td>2.30</td>\n",
       "    </tr>\n",
       "    <tr>\n",
       "      <th>AS</th>\n",
       "      <td>17.5</td>\n",
       "      <td>16.0</td>\n",
       "      <td>1.0</td>\n",
       "      <td>1.20</td>\n",
       "    </tr>\n",
       "    <tr>\n",
       "      <th>EU</th>\n",
       "      <td>219.0</td>\n",
       "      <td>122.0</td>\n",
       "      <td>128.0</td>\n",
       "      <td>10.00</td>\n",
       "    </tr>\n",
       "    <tr>\n",
       "      <th>NoA</th>\n",
       "      <td>143.0</td>\n",
       "      <td>137.0</td>\n",
       "      <td>11.0</td>\n",
       "      <td>6.30</td>\n",
       "    </tr>\n",
       "    <tr>\n",
       "      <th>OC</th>\n",
       "      <td>52.5</td>\n",
       "      <td>37.0</td>\n",
       "      <td>8.5</td>\n",
       "      <td>1.75</td>\n",
       "    </tr>\n",
       "    <tr>\n",
       "      <th>SA</th>\n",
       "      <td>162.5</td>\n",
       "      <td>108.5</td>\n",
       "      <td>12.0</td>\n",
       "      <td>6.85</td>\n",
       "    </tr>\n",
       "  </tbody>\n",
       "</table>\n",
       "</div>"
      ],
      "text/plain": [
       "           beer_servings  spirit_servings  wine_servings  \\\n",
       "continent                                                  \n",
       "AF                  32.0              3.0            2.0   \n",
       "AS                  17.5             16.0            1.0   \n",
       "EU                 219.0            122.0          128.0   \n",
       "NoA                143.0            137.0           11.0   \n",
       "OC                  52.5             37.0            8.5   \n",
       "SA                 162.5            108.5           12.0   \n",
       "\n",
       "           total_litres_of_pure_alcohol  \n",
       "continent                                \n",
       "AF                                 2.30  \n",
       "AS                                 1.20  \n",
       "EU                                10.00  \n",
       "NoA                                6.30  \n",
       "OC                                 1.75  \n",
       "SA                                 6.85  "
      ]
     },
     "execution_count": 5,
     "metadata": {},
     "output_type": "execute_result"
    }
   ],
   "source": [
    "dataframe.groupby('continent').median()"
   ]
  },
  {
   "cell_type": "markdown",
   "metadata": {},
   "source": [
    "## Question2\n",
    "Consider a Euro 2012 football tournament.\n",
    "\n",
    "\n",
    "Football analysts decide certain criteria in order to decide which team has a good chance to win this cup. Your task is to help those analysts by performing some tasks given below."
   ]
  },
  {
   "cell_type": "markdown",
   "metadata": {},
   "source": [
    "Find the teams who are participating in this tournament"
   ]
  },
  {
   "cell_type": "code",
   "execution_count": 17,
   "metadata": {},
   "outputs": [
    {
     "data": {
      "text/plain": [
       "0                 Croatia\n",
       "1          Czech Republic\n",
       "2                 Denmark\n",
       "3                 England\n",
       "4                  France\n",
       "5                 Germany\n",
       "6                  Greece\n",
       "7                   Italy\n",
       "8             Netherlands\n",
       "9                  Poland\n",
       "10               Portugal\n",
       "11    Republic of Ireland\n",
       "12                 Russia\n",
       "13                  Spain\n",
       "14                 Sweden\n",
       "15                Ukraine\n",
       "Name: Team, dtype: object"
      ]
     },
     "execution_count": 17,
     "metadata": {},
     "output_type": "execute_result"
    }
   ],
   "source": [
    "dataset3= pd.read_csv('/storage/emulated/0/Download/201A5PS1087H/Euro_2012_stats_TEAM.csv') \n",
    "dataset3['Team']"
   ]
  },
  {
   "cell_type": "markdown",
   "metadata": {},
   "source": [
    "Find the shooting accuracy of all the teams that have scored more than 5 goals"
   ]
  },
  {
   "cell_type": "code",
   "execution_count": 27,
   "metadata": {},
   "outputs": [
    {
     "data": {
      "text/html": [
       "<div>\n",
       "<style scoped>\n",
       "    .dataframe tbody tr th:only-of-type {\n",
       "        vertical-align: middle;\n",
       "    }\n",
       "\n",
       "    .dataframe tbody tr th {\n",
       "        vertical-align: top;\n",
       "    }\n",
       "\n",
       "    .dataframe thead th {\n",
       "        text-align: right;\n",
       "    }\n",
       "</style>\n",
       "<table border=\"1\" class=\"dataframe\">\n",
       "  <thead>\n",
       "    <tr style=\"text-align: right;\">\n",
       "      <th></th>\n",
       "      <th>Team</th>\n",
       "      <th>Shooting Accuracy</th>\n",
       "    </tr>\n",
       "  </thead>\n",
       "  <tbody>\n",
       "    <tr>\n",
       "      <th>5</th>\n",
       "      <td>Germany</td>\n",
       "      <td>47.8%</td>\n",
       "    </tr>\n",
       "    <tr>\n",
       "      <th>7</th>\n",
       "      <td>Italy</td>\n",
       "      <td>43.0%</td>\n",
       "    </tr>\n",
       "    <tr>\n",
       "      <th>10</th>\n",
       "      <td>Portugal</td>\n",
       "      <td>34.3%</td>\n",
       "    </tr>\n",
       "    <tr>\n",
       "      <th>13</th>\n",
       "      <td>Spain</td>\n",
       "      <td>55.9%</td>\n",
       "    </tr>\n",
       "  </tbody>\n",
       "</table>\n",
       "</div>"
      ],
      "text/plain": [
       "        Team Shooting Accuracy\n",
       "5    Germany             47.8%\n",
       "7      Italy             43.0%\n",
       "10  Portugal             34.3%\n",
       "13     Spain             55.9%"
      ]
     },
     "execution_count": 27,
     "metadata": {},
     "output_type": "execute_result"
    }
   ],
   "source": [
    "data_shooting_accuracy = data3[data3['Goals'] > 5]\n",
    "data_shooting_accuracy_only= data_shooting_accuracy['Shooting Accuracy']\n",
    "data_shooting_teams = data_shooting_accuracy['Team']\n",
    "final_data = pd.concat((data_shooting_teams,data_shooting_accuracy_only), axis=1) \n",
    "final_data"
   ]
  },
  {
   "cell_type": "markdown",
   "metadata": {},
   "source": [
    "Find the total number of goals scored in the tournament"
   ]
  },
  {
   "cell_type": "code",
   "execution_count": 28,
   "metadata": {},
   "outputs": [
    {
     "data": {
      "text/plain": [
       "76"
      ]
     },
     "execution_count": 28,
     "metadata": {},
     "output_type": "execute_result"
    }
   ],
   "source": [
    "data_goals_sum = data3['Goals'].sum()\n",
    "data_goals_sum"
   ]
  },
  {
   "cell_type": "markdown",
   "metadata": {},
   "source": [
    "Sort the teams on the basis of goals scored(non-ascending order) "
   ]
  },
  {
   "cell_type": "code",
   "execution_count": 142,
   "metadata": {},
   "outputs": [
    {
     "data": {
      "text/html": [
       "<div>\n",
       "<style scoped>\n",
       "    .dataframe tbody tr th:only-of-type {\n",
       "        vertical-align: middle;\n",
       "    }\n",
       "\n",
       "    .dataframe tbody tr th {\n",
       "        vertical-align: top;\n",
       "    }\n",
       "\n",
       "    .dataframe thead th {\n",
       "        text-align: right;\n",
       "    }\n",
       "</style>\n",
       "<table border=\"1\" class=\"dataframe\">\n",
       "  <thead>\n",
       "    <tr style=\"text-align: right;\">\n",
       "      <th></th>\n",
       "      <th>Team</th>\n",
       "      <th>Goals</th>\n",
       "      <th>Shots on target</th>\n",
       "      <th>Shots off target</th>\n",
       "      <th>Shooting Accuracy</th>\n",
       "      <th>% Goals-to-shots</th>\n",
       "      <th>Total shots (inc. Blocked)</th>\n",
       "      <th>Hit Woodwork</th>\n",
       "      <th>Penalty goals</th>\n",
       "      <th>Penalties not scored</th>\n",
       "      <th>...</th>\n",
       "      <th>Saves made</th>\n",
       "      <th>Saves-to-shots ratio</th>\n",
       "      <th>Fouls Won</th>\n",
       "      <th>Fouls Conceded</th>\n",
       "      <th>Offsides</th>\n",
       "      <th>Yellow Cards</th>\n",
       "      <th>Red Cards</th>\n",
       "      <th>Subs on</th>\n",
       "      <th>Subs off</th>\n",
       "      <th>Players Used</th>\n",
       "    </tr>\n",
       "  </thead>\n",
       "  <tbody>\n",
       "    <tr>\n",
       "      <th>13</th>\n",
       "      <td>Spain</td>\n",
       "      <td>12</td>\n",
       "      <td>42</td>\n",
       "      <td>33</td>\n",
       "      <td>55.9%</td>\n",
       "      <td>16.0%</td>\n",
       "      <td>100</td>\n",
       "      <td>0</td>\n",
       "      <td>1</td>\n",
       "      <td>0</td>\n",
       "      <td>...</td>\n",
       "      <td>15</td>\n",
       "      <td>93.8%</td>\n",
       "      <td>102</td>\n",
       "      <td>83</td>\n",
       "      <td>19</td>\n",
       "      <td>11</td>\n",
       "      <td>0</td>\n",
       "      <td>17</td>\n",
       "      <td>17</td>\n",
       "      <td>18</td>\n",
       "    </tr>\n",
       "    <tr>\n",
       "      <th>5</th>\n",
       "      <td>Germany</td>\n",
       "      <td>10</td>\n",
       "      <td>32</td>\n",
       "      <td>32</td>\n",
       "      <td>47.8%</td>\n",
       "      <td>15.6%</td>\n",
       "      <td>80</td>\n",
       "      <td>2</td>\n",
       "      <td>1</td>\n",
       "      <td>0</td>\n",
       "      <td>...</td>\n",
       "      <td>10</td>\n",
       "      <td>62.6%</td>\n",
       "      <td>63</td>\n",
       "      <td>49</td>\n",
       "      <td>12</td>\n",
       "      <td>4</td>\n",
       "      <td>0</td>\n",
       "      <td>15</td>\n",
       "      <td>15</td>\n",
       "      <td>17</td>\n",
       "    </tr>\n",
       "    <tr>\n",
       "      <th>7</th>\n",
       "      <td>Italy</td>\n",
       "      <td>6</td>\n",
       "      <td>34</td>\n",
       "      <td>45</td>\n",
       "      <td>43.0%</td>\n",
       "      <td>7.5%</td>\n",
       "      <td>110</td>\n",
       "      <td>2</td>\n",
       "      <td>0</td>\n",
       "      <td>0</td>\n",
       "      <td>...</td>\n",
       "      <td>20</td>\n",
       "      <td>74.1%</td>\n",
       "      <td>101</td>\n",
       "      <td>89</td>\n",
       "      <td>16</td>\n",
       "      <td>16</td>\n",
       "      <td>0</td>\n",
       "      <td>18</td>\n",
       "      <td>18</td>\n",
       "      <td>19</td>\n",
       "    </tr>\n",
       "    <tr>\n",
       "      <th>10</th>\n",
       "      <td>Portugal</td>\n",
       "      <td>6</td>\n",
       "      <td>22</td>\n",
       "      <td>42</td>\n",
       "      <td>34.3%</td>\n",
       "      <td>9.3%</td>\n",
       "      <td>82</td>\n",
       "      <td>6</td>\n",
       "      <td>0</td>\n",
       "      <td>0</td>\n",
       "      <td>...</td>\n",
       "      <td>10</td>\n",
       "      <td>71.5%</td>\n",
       "      <td>73</td>\n",
       "      <td>90</td>\n",
       "      <td>10</td>\n",
       "      <td>12</td>\n",
       "      <td>0</td>\n",
       "      <td>14</td>\n",
       "      <td>14</td>\n",
       "      <td>16</td>\n",
       "    </tr>\n",
       "    <tr>\n",
       "      <th>3</th>\n",
       "      <td>England</td>\n",
       "      <td>5</td>\n",
       "      <td>11</td>\n",
       "      <td>18</td>\n",
       "      <td>50.0%</td>\n",
       "      <td>17.2%</td>\n",
       "      <td>40</td>\n",
       "      <td>0</td>\n",
       "      <td>0</td>\n",
       "      <td>0</td>\n",
       "      <td>...</td>\n",
       "      <td>22</td>\n",
       "      <td>88.1%</td>\n",
       "      <td>43</td>\n",
       "      <td>45</td>\n",
       "      <td>6</td>\n",
       "      <td>5</td>\n",
       "      <td>0</td>\n",
       "      <td>11</td>\n",
       "      <td>11</td>\n",
       "      <td>16</td>\n",
       "    </tr>\n",
       "    <tr>\n",
       "      <th>6</th>\n",
       "      <td>Greece</td>\n",
       "      <td>5</td>\n",
       "      <td>8</td>\n",
       "      <td>18</td>\n",
       "      <td>30.7%</td>\n",
       "      <td>19.2%</td>\n",
       "      <td>32</td>\n",
       "      <td>1</td>\n",
       "      <td>1</td>\n",
       "      <td>1</td>\n",
       "      <td>...</td>\n",
       "      <td>13</td>\n",
       "      <td>65.1%</td>\n",
       "      <td>67</td>\n",
       "      <td>48</td>\n",
       "      <td>12</td>\n",
       "      <td>9</td>\n",
       "      <td>1</td>\n",
       "      <td>12</td>\n",
       "      <td>12</td>\n",
       "      <td>20</td>\n",
       "    </tr>\n",
       "    <tr>\n",
       "      <th>12</th>\n",
       "      <td>Russia</td>\n",
       "      <td>5</td>\n",
       "      <td>9</td>\n",
       "      <td>31</td>\n",
       "      <td>22.5%</td>\n",
       "      <td>12.5%</td>\n",
       "      <td>59</td>\n",
       "      <td>2</td>\n",
       "      <td>0</td>\n",
       "      <td>0</td>\n",
       "      <td>...</td>\n",
       "      <td>10</td>\n",
       "      <td>77.0%</td>\n",
       "      <td>34</td>\n",
       "      <td>43</td>\n",
       "      <td>4</td>\n",
       "      <td>6</td>\n",
       "      <td>0</td>\n",
       "      <td>7</td>\n",
       "      <td>7</td>\n",
       "      <td>16</td>\n",
       "    </tr>\n",
       "    <tr>\n",
       "      <th>14</th>\n",
       "      <td>Sweden</td>\n",
       "      <td>5</td>\n",
       "      <td>17</td>\n",
       "      <td>19</td>\n",
       "      <td>47.2%</td>\n",
       "      <td>13.8%</td>\n",
       "      <td>39</td>\n",
       "      <td>3</td>\n",
       "      <td>0</td>\n",
       "      <td>0</td>\n",
       "      <td>...</td>\n",
       "      <td>8</td>\n",
       "      <td>61.6%</td>\n",
       "      <td>35</td>\n",
       "      <td>51</td>\n",
       "      <td>7</td>\n",
       "      <td>7</td>\n",
       "      <td>0</td>\n",
       "      <td>9</td>\n",
       "      <td>9</td>\n",
       "      <td>18</td>\n",
       "    </tr>\n",
       "    <tr>\n",
       "      <th>0</th>\n",
       "      <td>Croatia</td>\n",
       "      <td>4</td>\n",
       "      <td>13</td>\n",
       "      <td>12</td>\n",
       "      <td>51.9%</td>\n",
       "      <td>16.0%</td>\n",
       "      <td>32</td>\n",
       "      <td>0</td>\n",
       "      <td>0</td>\n",
       "      <td>0</td>\n",
       "      <td>...</td>\n",
       "      <td>13</td>\n",
       "      <td>81.3%</td>\n",
       "      <td>41</td>\n",
       "      <td>62</td>\n",
       "      <td>2</td>\n",
       "      <td>9</td>\n",
       "      <td>0</td>\n",
       "      <td>9</td>\n",
       "      <td>9</td>\n",
       "      <td>16</td>\n",
       "    </tr>\n",
       "    <tr>\n",
       "      <th>1</th>\n",
       "      <td>Czech Republic</td>\n",
       "      <td>4</td>\n",
       "      <td>13</td>\n",
       "      <td>18</td>\n",
       "      <td>41.9%</td>\n",
       "      <td>12.9%</td>\n",
       "      <td>39</td>\n",
       "      <td>0</td>\n",
       "      <td>0</td>\n",
       "      <td>0</td>\n",
       "      <td>...</td>\n",
       "      <td>9</td>\n",
       "      <td>60.1%</td>\n",
       "      <td>53</td>\n",
       "      <td>73</td>\n",
       "      <td>8</td>\n",
       "      <td>7</td>\n",
       "      <td>0</td>\n",
       "      <td>11</td>\n",
       "      <td>11</td>\n",
       "      <td>19</td>\n",
       "    </tr>\n",
       "    <tr>\n",
       "      <th>2</th>\n",
       "      <td>Denmark</td>\n",
       "      <td>4</td>\n",
       "      <td>10</td>\n",
       "      <td>10</td>\n",
       "      <td>50.0%</td>\n",
       "      <td>20.0%</td>\n",
       "      <td>27</td>\n",
       "      <td>1</td>\n",
       "      <td>0</td>\n",
       "      <td>0</td>\n",
       "      <td>...</td>\n",
       "      <td>10</td>\n",
       "      <td>66.7%</td>\n",
       "      <td>25</td>\n",
       "      <td>38</td>\n",
       "      <td>8</td>\n",
       "      <td>4</td>\n",
       "      <td>0</td>\n",
       "      <td>7</td>\n",
       "      <td>7</td>\n",
       "      <td>15</td>\n",
       "    </tr>\n",
       "    <tr>\n",
       "      <th>4</th>\n",
       "      <td>France</td>\n",
       "      <td>3</td>\n",
       "      <td>22</td>\n",
       "      <td>24</td>\n",
       "      <td>37.9%</td>\n",
       "      <td>6.5%</td>\n",
       "      <td>65</td>\n",
       "      <td>1</td>\n",
       "      <td>0</td>\n",
       "      <td>0</td>\n",
       "      <td>...</td>\n",
       "      <td>6</td>\n",
       "      <td>54.6%</td>\n",
       "      <td>36</td>\n",
       "      <td>51</td>\n",
       "      <td>5</td>\n",
       "      <td>6</td>\n",
       "      <td>0</td>\n",
       "      <td>11</td>\n",
       "      <td>11</td>\n",
       "      <td>19</td>\n",
       "    </tr>\n",
       "    <tr>\n",
       "      <th>8</th>\n",
       "      <td>Netherlands</td>\n",
       "      <td>2</td>\n",
       "      <td>12</td>\n",
       "      <td>36</td>\n",
       "      <td>25.0%</td>\n",
       "      <td>4.1%</td>\n",
       "      <td>60</td>\n",
       "      <td>2</td>\n",
       "      <td>0</td>\n",
       "      <td>0</td>\n",
       "      <td>...</td>\n",
       "      <td>12</td>\n",
       "      <td>70.6%</td>\n",
       "      <td>35</td>\n",
       "      <td>30</td>\n",
       "      <td>3</td>\n",
       "      <td>5</td>\n",
       "      <td>0</td>\n",
       "      <td>7</td>\n",
       "      <td>7</td>\n",
       "      <td>15</td>\n",
       "    </tr>\n",
       "    <tr>\n",
       "      <th>9</th>\n",
       "      <td>Poland</td>\n",
       "      <td>2</td>\n",
       "      <td>15</td>\n",
       "      <td>23</td>\n",
       "      <td>39.4%</td>\n",
       "      <td>5.2%</td>\n",
       "      <td>48</td>\n",
       "      <td>0</td>\n",
       "      <td>0</td>\n",
       "      <td>0</td>\n",
       "      <td>...</td>\n",
       "      <td>6</td>\n",
       "      <td>66.7%</td>\n",
       "      <td>48</td>\n",
       "      <td>56</td>\n",
       "      <td>3</td>\n",
       "      <td>7</td>\n",
       "      <td>1</td>\n",
       "      <td>7</td>\n",
       "      <td>7</td>\n",
       "      <td>17</td>\n",
       "    </tr>\n",
       "    <tr>\n",
       "      <th>15</th>\n",
       "      <td>Ukraine</td>\n",
       "      <td>2</td>\n",
       "      <td>7</td>\n",
       "      <td>26</td>\n",
       "      <td>21.2%</td>\n",
       "      <td>6.0%</td>\n",
       "      <td>38</td>\n",
       "      <td>0</td>\n",
       "      <td>0</td>\n",
       "      <td>0</td>\n",
       "      <td>...</td>\n",
       "      <td>13</td>\n",
       "      <td>76.5%</td>\n",
       "      <td>48</td>\n",
       "      <td>31</td>\n",
       "      <td>4</td>\n",
       "      <td>5</td>\n",
       "      <td>0</td>\n",
       "      <td>9</td>\n",
       "      <td>9</td>\n",
       "      <td>18</td>\n",
       "    </tr>\n",
       "    <tr>\n",
       "      <th>11</th>\n",
       "      <td>Republic of Ireland</td>\n",
       "      <td>1</td>\n",
       "      <td>7</td>\n",
       "      <td>12</td>\n",
       "      <td>36.8%</td>\n",
       "      <td>5.2%</td>\n",
       "      <td>28</td>\n",
       "      <td>0</td>\n",
       "      <td>0</td>\n",
       "      <td>0</td>\n",
       "      <td>...</td>\n",
       "      <td>17</td>\n",
       "      <td>65.4%</td>\n",
       "      <td>43</td>\n",
       "      <td>51</td>\n",
       "      <td>11</td>\n",
       "      <td>6</td>\n",
       "      <td>1</td>\n",
       "      <td>10</td>\n",
       "      <td>10</td>\n",
       "      <td>17</td>\n",
       "    </tr>\n",
       "  </tbody>\n",
       "</table>\n",
       "<p>16 rows × 35 columns</p>\n",
       "</div>"
      ],
      "text/plain": [
       "                   Team  Goals  Shots on target  Shots off target  \\\n",
       "13                Spain     12               42                33   \n",
       "5               Germany     10               32                32   \n",
       "7                 Italy      6               34                45   \n",
       "10             Portugal      6               22                42   \n",
       "3               England      5               11                18   \n",
       "6                Greece      5                8                18   \n",
       "12               Russia      5                9                31   \n",
       "14               Sweden      5               17                19   \n",
       "0               Croatia      4               13                12   \n",
       "1        Czech Republic      4               13                18   \n",
       "2               Denmark      4               10                10   \n",
       "4                France      3               22                24   \n",
       "8           Netherlands      2               12                36   \n",
       "9                Poland      2               15                23   \n",
       "15              Ukraine      2                7                26   \n",
       "11  Republic of Ireland      1                7                12   \n",
       "\n",
       "   Shooting Accuracy % Goals-to-shots  Total shots (inc. Blocked)  \\\n",
       "13             55.9%            16.0%                         100   \n",
       "5              47.8%            15.6%                          80   \n",
       "7              43.0%             7.5%                         110   \n",
       "10             34.3%             9.3%                          82   \n",
       "3              50.0%            17.2%                          40   \n",
       "6              30.7%            19.2%                          32   \n",
       "12             22.5%            12.5%                          59   \n",
       "14             47.2%            13.8%                          39   \n",
       "0              51.9%            16.0%                          32   \n",
       "1              41.9%            12.9%                          39   \n",
       "2              50.0%            20.0%                          27   \n",
       "4              37.9%             6.5%                          65   \n",
       "8              25.0%             4.1%                          60   \n",
       "9              39.4%             5.2%                          48   \n",
       "15             21.2%             6.0%                          38   \n",
       "11             36.8%             5.2%                          28   \n",
       "\n",
       "    Hit Woodwork  Penalty goals  Penalties not scored  ...  Saves made  \\\n",
       "13             0              1                     0  ...          15   \n",
       "5              2              1                     0  ...          10   \n",
       "7              2              0                     0  ...          20   \n",
       "10             6              0                     0  ...          10   \n",
       "3              0              0                     0  ...          22   \n",
       "6              1              1                     1  ...          13   \n",
       "12             2              0                     0  ...          10   \n",
       "14             3              0                     0  ...           8   \n",
       "0              0              0                     0  ...          13   \n",
       "1              0              0                     0  ...           9   \n",
       "2              1              0                     0  ...          10   \n",
       "4              1              0                     0  ...           6   \n",
       "8              2              0                     0  ...          12   \n",
       "9              0              0                     0  ...           6   \n",
       "15             0              0                     0  ...          13   \n",
       "11             0              0                     0  ...          17   \n",
       "\n",
       "    Saves-to-shots ratio  Fouls Won Fouls Conceded  Offsides  Yellow Cards  \\\n",
       "13                 93.8%        102             83        19            11   \n",
       "5                  62.6%         63             49        12             4   \n",
       "7                  74.1%        101             89        16            16   \n",
       "10                 71.5%         73             90        10            12   \n",
       "3                  88.1%         43             45         6             5   \n",
       "6                  65.1%         67             48        12             9   \n",
       "12                 77.0%         34             43         4             6   \n",
       "14                 61.6%         35             51         7             7   \n",
       "0                  81.3%         41             62         2             9   \n",
       "1                  60.1%         53             73         8             7   \n",
       "2                  66.7%         25             38         8             4   \n",
       "4                  54.6%         36             51         5             6   \n",
       "8                  70.6%         35             30         3             5   \n",
       "9                  66.7%         48             56         3             7   \n",
       "15                 76.5%         48             31         4             5   \n",
       "11                 65.4%         43             51        11             6   \n",
       "\n",
       "    Red Cards  Subs on  Subs off  Players Used  \n",
       "13          0       17        17            18  \n",
       "5           0       15        15            17  \n",
       "7           0       18        18            19  \n",
       "10          0       14        14            16  \n",
       "3           0       11        11            16  \n",
       "6           1       12        12            20  \n",
       "12          0        7         7            16  \n",
       "14          0        9         9            18  \n",
       "0           0        9         9            16  \n",
       "1           0       11        11            19  \n",
       "2           0        7         7            15  \n",
       "4           0       11        11            19  \n",
       "8           0        7         7            15  \n",
       "9           1        7         7            17  \n",
       "15          0        9         9            18  \n",
       "11          1       10        10            17  \n",
       "\n",
       "[16 rows x 35 columns]"
      ]
     },
     "execution_count": 142,
     "metadata": {},
     "output_type": "execute_result"
    }
   ],
   "source": [
    "data_sort = data3.sort_values(by=\"Goals\",ascending=False,kind=\"mergesort\")\n",
    "data_sort"
   ]
  },
  {
   "cell_type": "markdown",
   "metadata": {},
   "source": [
    "Find the team with the most number of red cards"
   ]
  },
  {
   "cell_type": "code",
   "execution_count": 29,
   "metadata": {},
   "outputs": [
    {
     "data": {
      "text/plain": [
       "'Greece'"
      ]
     },
     "execution_count": 29,
     "metadata": {},
     "output_type": "execute_result"
    }
   ],
   "source": [
    "data_most_red = data3.sort_values(by=\"Red Cards\",ascending=False,kind=\"mergesort\")\n",
    "data_most_red.iloc[0,0]"
   ]
  },
  {
   "cell_type": "markdown",
   "metadata": {},
   "source": [
    "## Question3"
   ]
  },
  {
   "cell_type": "markdown",
   "metadata": {
    "id": "cBG1YVWHjJbM"
   },
   "source": [
    "Taking the dataset, and converting the M and B categorical variables to binary variables and then converting to a numpy array"
   ]
  },
  {
   "cell_type": "code",
   "execution_count": 40,
   "metadata": {
    "id": "SZzXP83-k69Q"
   },
   "outputs": [],
   "source": [
    "\n",
    "dataset = pd.read_csv('/storage/emulated/0/Download/201A5PS1087H/final_wdbc.csv') \n",
    "dataset_drop_id= dataset.drop('ID',axis=1)\n",
    "dataframe = pd.DataFrame(data=dataset_drop_id)\n",
    "df_one= pd.get_dummies(dataframe[\"Class\"])\n",
    "df_two = pd.concat((dataframe, df_one), axis=1)\n",
    "df_two = df_two.drop([\"M\"], axis=1)\n",
    "df_two = df_two.drop([\"Class\"], axis=1)\n",
    "result = df_two.rename(columns={\"B\": \"Class\"})\n",
    "train=result.sample(frac=0.85,random_state=60) #random state is a seed value\n",
    "test=result.drop(train.index)\n",
    "train = train.to_numpy()\n",
    "test = test.to_numpy()"
   ]
  },
  {
   "cell_type": "markdown",
   "metadata": {
    "id": "oAHHOFrMlVVK"
   },
   "source": [
    "*Gini impurity is a measure of how often a randomly chosen element from the set would be incorrectly labeled if it was randomly labeled according to the distribution of labels in the subset.*\n",
    "\n",
    "\n",
    "The GINI impurity of such a system is calculated with the following formula:\n",
    "    \n",
    "$$G = 1 - \\Sigma_{i=1}^{2}p(i)^{2}$$"
   ]
  },
  {
   "cell_type": "code",
   "execution_count": 36,
   "metadata": {
    "id": "dMXM-J3Wl-Ey"
   },
   "outputs": [],
   "source": [
    "def calc_gini(data):\n",
    "    gini = 0.0\n",
    "    class_values = np.unique(data[:, -1])\n",
    "    for i in range(len(class_values)):\n",
    "        gini += np.power(np.divide(np.where(data[:, -1] == class_values[i])[0].shape[0], data.shape[0]), 2)\n",
    "    return np.subtract(1, gini)\n"
   ]
  },
  {
   "cell_type": "markdown",
   "metadata": {
    "id": "t7vyI8lzmYCL"
   },
   "source": [
    "The gini index of the dataset is caculated, we can improve on this coefficient by finding a best split of the data"
   ]
  },
  {
   "cell_type": "code",
   "execution_count": 37,
   "metadata": {
    "id": "VVIZQNJppNeq"
   },
   "outputs": [
    {
     "data": {
      "text/plain": [
       "0.4983416024780023"
      ]
     },
     "execution_count": 37,
     "metadata": {},
     "output_type": "execute_result"
    }
   ],
   "source": [
    "calc_gini(train)"
   ]
  },
  {
   "cell_type": "markdown",
   "metadata": {
    "id": "_mKGrg9mC8P7"
   },
   "source": [
    "class Decision node is used for the contruction of the tree. with feature and value being the input variables\n",
    "\n"
   ]
  },
  {
   "cell_type": "code",
   "execution_count": 38,
   "metadata": {},
   "outputs": [],
   "source": [
    "class DecisionNode:\n",
    "    def __init__(self, feature, value, data, num_of_instances, majority):\n",
    "        self.feature = feature  # column index of criteria being tested\n",
    "        self.value = value  # value necessary to get a true result\n",
    "        self.children = []\n",
    "        self.num_of_instances = num_of_instances\n",
    "        self.majority = majority\n",
    "\n",
    "    def add_child(self, node):\n",
    "        self.children.append(node)\n"
   ]
  },
  {
   "cell_type": "markdown",
   "metadata": {},
   "source": [
    "The build tree function takes the data and the impurity to be measured a, and returns the root of the tree built,it calculates the gain between each of the two nodes and returns the best gain, the split is kept as as the mean of one value after and before the particular cell"
   ]
  },
  {
   "cell_type": "code",
   "execution_count": 39,
   "metadata": {
    "id": "oL6EcDWaDRdP"
   },
   "outputs": [],
   "source": [
    "def build_tree(data, impurity):\n",
    "    if len(np.unique(data[:, -1])) == 1:\n",
    "        return np.unique(data[:, -1])[0], data.shape[0]\n",
    "    else:\n",
    "        best_feature = 0\n",
    "        best_threshold = 0\n",
    "        best_gain = 0\n",
    "        for i in range(np.subtract(data.shape[1], 1)):\n",
    "            for j in range(np.subtract(data.shape[0], 1)):\n",
    "                threshold = np.mean(np.array(data[j][i], data[j + 1][i]))\n",
    "                child_a = data[np.where(data[:, i] <= threshold)]\n",
    "                weight_a = np.divide(child_a.shape[0], data.shape[0])\n",
    "                child_b = data[np.where(data[:, i] > threshold)]\n",
    "                weight_b = np.divide(child_b.shape[0], data.shape[0])\n",
    "                gain = impurity(data) \\\n",
    "                    - (np.multiply(weight_a, impurity(child_a))\n",
    "                        + np.multiply(weight_b, impurity(child_b)))\n",
    "                if gain > best_gain:\n",
    "                    best_gain = gain\n",
    "                    best_threshold = threshold\n",
    "                    best_feature = i\n",
    "        majority = 0.0 if np.divide(data[np.where(data[:, -1] == 0.0)].shape[0], data.shape[0]) > 0.5 else 1.0\n",
    "        root = DecisionNode(best_feature, best_threshold, data, data.shape[0], majority)\n",
    "        child_a = build_tree(data[np.where(data[:, best_feature] <= best_threshold)], impurity)\n",
    "        child_b = build_tree(data[np.where(data[:, best_feature] > best_threshold)], impurity)\n",
    "        root.add_child(child_a)\n",
    "        root.add_child(child_b)\n",
    "    return root\n"
   ]
  },
  {
   "cell_type": "markdown",
   "metadata": {
    "id": "xUXMevW37bWZ"
   },
   "source": [
    "The predict function takes as a parameter the node and the data on which the prediction is to be made, and checks if the node is and instance of which two children of the decision Node made previously,it iterates untill it reaches the end of the tree"
   ]
  },
  {
   "cell_type": "code",
   "execution_count": 46,
   "metadata": {},
   "outputs": [],
   "source": [
    "def predict(node, instance):\n",
    "    pred = None\n",
    "    if isinstance(node, DecisionNode):\n",
    "        if instance[node.feature] <= node.value:\n",
    "            if not isinstance(node.children[0], DecisionNode):\n",
    "                return node.children[0]\n",
    "            else:\n",
    "                pred = predict(node.children[0], instance)\n",
    "        else:\n",
    "            if not isinstance(node.children[1], DecisionNode):\n",
    "                return node.children[1]\n",
    "            else:\n",
    "                pred = predict(node.children[1], instance)\n",
    "    else:\n",
    "        return node\n",
    "\n",
    "    return pred"
   ]
  },
  {
   "cell_type": "markdown",
   "metadata": {},
   "source": [
    "The calc_accuracy function checks for every right and wrong prediction and returns the accuracy of the tree by using the predict function over all the values of the test data"
   ]
  },
  {
   "cell_type": "code",
   "execution_count": 45,
   "metadata": {},
   "outputs": [],
   "source": [
    "def calc_accuracy(node, data):\n",
    "    right_prediction = 0\n",
    "    wrong_prediction = 0\n",
    "\n",
    "    for i in range(data.shape[0]):\n",
    "        prediction = predict(node, data[i])\n",
    "        if prediction[0] == data[i][-1]:\n",
    "            right_prediction += 1\n",
    "        else:\n",
    "            wrong_prediction += 1\n",
    "\n",
    "    accuracy = np.multiply(np.divide(right_prediction, np.add(right_prediction, wrong_prediction)), 100)\n",
    "    return accuracy\n"
   ]
  },
  {
   "cell_type": "markdown",
   "metadata": {
    "id": "9FmtYPzPE8Pf"
   },
   "source": [
    "Here we are calculating the accuracy of the decision tree by using the X_test data\n"
   ]
  },
  {
   "cell_type": "code",
   "execution_count": 41,
   "metadata": {
    "id": "qH2uYPn97d16"
   },
   "outputs": [],
   "source": [
    "tree = build_tree(data=train, impurity=calc_gini) "
   ]
  },
  {
   "cell_type": "code",
   "execution_count": 47,
   "metadata": {
    "id": "9iStVH8RF1nR"
   },
   "outputs": [
    {
     "data": {
      "text/plain": [
       "93.75"
      ]
     },
     "execution_count": 47,
     "metadata": {},
     "output_type": "execute_result"
    }
   ],
   "source": [
    "accuracy = calc_accuracy(tree, test)\n",
    "accuracy"
   ]
  },
  {
   "cell_type": "code",
   "execution_count": null,
   "metadata": {},
   "outputs": [],
   "source": []
  }
 ],
 "metadata": {
  "colab": {
   "collapsed_sections": [],
   "name": " A1.ipynb",
   "provenance": []
  },
  "kernelspec": {
   "display_name": "Python 3 (ipykernel)",
   "language": "python",
   "name": "python3"
  },
  "language_info": {
   "codemirror_mode": {
    "name": "ipython",
    "version": 3
   },
   "file_extension": ".py",
   "mimetype": "text/x-python",
   "name": "python",
   "nbconvert_exporter": "python",
   "pygments_lexer": "ipython3",
   "version": "3.9.7"
  }
 },
 "nbformat": 4,
 "nbformat_minor": 1
}
